{
  "cells": [
    {
      "cell_type": "markdown",
      "metadata": {
        "id": "vkNJdaakl9X7"
      },
      "source": [
        "## 01 - Entrada e Saída de Dados"
      ]
    },
    {
      "cell_type": "markdown",
      "metadata": {
        "id": "_mGIss-OmKVy"
      },
      "source": [
        "## Primeiros passos com Python\n",
        "\n",
        "No Python, assim como as demais linguagens, temos a forma correta de escrever os comandos. Isso é chamado de **sintaxe**. Cada comando, existe sua sintaxe correta de escrita, caso contrário, apresentará um erro."
      ]
    },
    {
      "cell_type": "code",
      "execution_count": 4,
      "metadata": {
        "colab": {
          "base_uri": "https://localhost:8080/"
        },
        "id": "4T0h61ANopre",
        "outputId": "4f27867c-8bce-442d-82d1-a98c518cc1e7"
      },
      "outputs": [
        {
          "name": "stdout",
          "output_type": "stream",
          "text": [
            "The Zen of Python, by Tim Peters\n",
            "\n",
            "Beautiful is better than ugly.\n",
            "Explicit is better than implicit.\n",
            "Simple is better than complex.\n",
            "Complex is better than complicated.\n",
            "Flat is better than nested.\n",
            "Sparse is better than dense.\n",
            "Readability counts.\n",
            "Special cases aren't special enough to break the rules.\n",
            "Although practicality beats purity.\n",
            "Errors should never pass silently.\n",
            "Unless explicitly silenced.\n",
            "In the face of ambiguity, refuse the temptation to guess.\n",
            "There should be one-- and preferably only one --obvious way to do it.\n",
            "Although that way may not be obvious at first unless you're Dutch.\n",
            "Now is better than never.\n",
            "Although never is often better than *right* now.\n",
            "If the implementation is hard to explain, it's a bad idea.\n",
            "If the implementation is easy to explain, it may be a good idea.\n",
            "Namespaces are one honking great idea -- let's do more of those!\n"
          ]
        }
      ],
      "source": [
        "import this"
      ]
    },
    {
      "cell_type": "markdown",
      "metadata": {
        "id": "128INtAnoPYd"
      },
      "source": [
        "## Saída de dados\n",
        "\n",
        "O comando responsável por **exibir** informações para o usuário no Python é o `print`. Em pseudocódigo, lemos como `escreva`.\n",
        "\n",
        "Exemplo em pseudocógido: `escreva(\"Olá mundo!\")`\n",
        "\n",
        "Exemplo em Python: `print('Olá mundo')`"
      ]
    },
    {
      "cell_type": "code",
      "execution_count": null,
      "metadata": {
        "colab": {
          "base_uri": "https://localhost:8080/"
        },
        "id": "vYZYcDeDrrI_",
        "outputId": "f148b112-5e03-4d1b-b07c-e24922ee6544"
      },
      "outputs": [
        {
          "name": "stdout",
          "output_type": "stream",
          "text": [
            "Olá mundo!\n"
          ]
        }
      ],
      "source": [
        "print('Olá mundo!')"
      ]
    },
    {
      "cell_type": "markdown",
      "metadata": {
        "id": "P7PGgww9ruzl"
      },
      "source": [
        "## Entrada de dados\n",
        "\n",
        "Já o comando de entrada de dados, responsável por ler as informações digitadas pelo usuário, é o `input`. Em pseudocódigo, é lido como `leia`.\n",
        "\n",
        "Exemplo em pseudocódigo: `leia()`\n",
        "\n",
        "Exemplo em Python: `input()`\n",
        "\n",
        "Faça abaixo o código em Python:"
      ]
    },
    {
      "cell_type": "code",
      "execution_count": 13,
      "metadata": {
        "colab": {
          "base_uri": "https://localhost:8080/"
        },
        "id": "0bwD6L1XsQ6O",
        "outputId": "f7d3e724-a552-4d02-8dfe-8e4558867a18"
      },
      "outputs": [
        {
          "data": {
            "text/plain": [
              "'Unimar'"
            ]
          },
          "execution_count": 13,
          "metadata": {},
          "output_type": "execute_result"
        }
      ],
      "source": [
        "input('Qual sua faculdade?')"
      ]
    },
    {
      "cell_type": "markdown",
      "metadata": {
        "id": "Ybha8_o3u45N"
      },
      "source": [
        "## 02 - Variáveis"
      ]
    },
    {
      "cell_type": "markdown",
      "metadata": {
        "id": "kfkJTQ7hvIp1"
      },
      "source": [
        "## Conceito\n",
        "\n",
        "Na computação, temos as variáveis. Variáveis, são posições na memória que sofrem alteração de valor.\n",
        "\n",
        "Ou seja, se você guardou um valor em uma variável, como um nome, uma idade, ele pode ser alterado posteriormente pois é possível essa volatilidade de seu valor.\n",
        "\n",
        "Para declarar uma variável, e armazenar um valor, é usado o sinal de = (igual).\n",
        "\n",
        "No Python, o tipo da variável é concebido de forma dinâmica, ou seja, no ato da atribuição de um valor."
      ]
    },
    {
      "cell_type": "markdown",
      "metadata": {
        "id": "nBeCp-XkyXz9"
      },
      "source": [
        "## Padrões\n",
        "\n",
        "Existem alguns padrões de declaração de variáveis, os mais comuns são:\n",
        "\n",
        "* unimarUniversidade = camelCase\n",
        "* UnimarUniversidade = PascalCase\n",
        "* unimar_universidade = snake_case"
      ]
    },
    {
      "cell_type": "code",
      "execution_count": null,
      "metadata": {
        "id": "3slG4FQryu2e"
      },
      "outputs": [],
      "source": [
        "nome = 'Nicollas' #normal\n",
        "nomePessoa = 'Nicollas' #camelCase\n",
        "NomePessoa = 'Nicollas' #PascalCase\n",
        "nome_pessoa = 'Nicollas' #snake_case"
      ]
    },
    {
      "cell_type": "markdown",
      "metadata": {
        "id": "pun5erMN0Qmd"
      },
      "source": [
        "Acima temos um exemplo de **atribuição** a uma variável, o valor 'Nicollas'.\n",
        "\n",
        "Podemos ler da seguinte maneira o comando: A variável `nome` recebe o valor de **Nicollas**.\n",
        "\n",
        "As aspas indicam que ela é do tipo texto.\n",
        "\n",
        "Com o que vimos, como podemos mostrar uma saudação para a pessoa que inseriou o nome na variável?"
      ]
    },
    {
      "cell_type": "code",
      "execution_count": null,
      "metadata": {
        "colab": {
          "base_uri": "https://localhost:8080/"
        },
        "id": "c918eOfb07NO",
        "outputId": "6669647d-6748-45cc-a841-fe4e4f924d9a"
      },
      "outputs": [
        {
          "name": "stdout",
          "output_type": "stream",
          "text": [
            "Olá Nicollas\n",
            "Olá Nicollas\n",
            "Olá Nicollas\n",
            "Olá Nicollas\n"
          ]
        }
      ],
      "source": [
        "print('Olá', nome)\n",
        "print('Olá', nomePessoa)\n",
        "print('Olá', NomePessoa)\n",
        "print('Olá', nome_pessoa)"
      ]
    },
    {
      "cell_type": "markdown",
      "metadata": {
        "id": "PiJKzTQJ13pm"
      },
      "source": [
        "## Concatenar\n",
        "\n",
        "Para juntarmos um conteúdo de texto variáveis, ou apenas variáveis com variáveis, usa-se a concatenação, simbolizada pela vírgula. Isso dita ao Python que você quer juntar/unir os valores.\n",
        "\n",
        "Exemplo com mais texto:"
      ]
    },
    {
      "cell_type": "code",
      "execution_count": null,
      "metadata": {
        "colab": {
          "base_uri": "https://localhost:8080/"
        },
        "id": "iPJCSLVA3c_M",
        "outputId": "38e1a18f-a535-4e9e-c124-2de6d9491a02"
      },
      "outputs": [
        {
          "name": "stdout",
          "output_type": "stream",
          "text": [
            "Olá Nicollas bem-vindo à Unimar!\n"
          ]
        }
      ],
      "source": [
        "print('Olá', nome, 'bem-vindo à Unimar!')"
      ]
    },
    {
      "cell_type": "markdown",
      "metadata": {
        "id": "WvR7P0UT3l8d"
      },
      "source": [
        "## Declaração\n",
        "\n",
        "Quando declaramos uma variável, temos que nos atentar na forma como declaramos as variáveis. Existe a sintaxe correta de declarações para tal.\n",
        "\n",
        "* sem espaços\n",
        "* não começar com números\n",
        "* sem usar caracteres especias/acentos\n",
        "* não usar palavras reservadas\n",
        "\n",
        "1. nota_1 - OK\n",
        "2. Média final - ACENTO E ESPAÇO\n",
        "3. Nome_Func - OK\n",
        "4. A - OK\n",
        "5. 123 - COMEÇA COM NÚMERO\n",
        "6. 1x - COMEÇA COM NÚMERO\n",
        "7. X1 - OK\n",
        "8. Código! - ACENTO E CARACTERE ESPECIAL\n",
        "9. Cod Cliente - ESPAÇO\n",
        "10. Y*X - CARACTERE ESPECIAL\n",
        "11. NOTA+2 - CARACTERE ESPECIAL"
      ]
    },
    {
      "cell_type": "markdown",
      "metadata": {
        "id": "9CUkyEZZF25s"
      },
      "source": [
        "## Tipos de dados\n",
        "\n",
        "Em Python, o tipo de uma variável não precisa ser declarado explicitamente antes de usar a variável. Python é uma linguagem de tipagem dinâmica, o que significa que o tipo de uma variável é inferido automaticamente com base no valor que ela recebe.\n",
        "\n",
        "Quando você atribui um valor a uma variável em Python, o interpretador determina o tipo dessa variável com base no tipo do valor atribuído. Exemplo\n"
      ]
    },
    {
      "cell_type": "markdown",
      "metadata": {
        "id": "vy4OPchJHJuV"
      },
      "source": [
        "`str`: representa uma cadeia de caracteres, ou seja, textos de forma geral:\n",
        "\n",
        "str = string = cadeia\n",
        "\n",
        "* 'Unimar - Universidade de Marília'\n",
        "* 'Nicollas'\n",
        "* 'Python'\n",
        "* '123'\n",
        "\n",
        "`int`: representa números inteiros\n",
        "\n",
        "int = interger = inteiro\n",
        "\n",
        "* 1\n",
        "* 50\n",
        "* -3\n",
        "\n",
        "`float`: representa números de ponto flutuante, ou seja, números com casas decimais\n",
        "\n",
        "float = floating = real\n",
        "\n",
        "* 3.14\n",
        "* -0.24\n",
        "* 145.6"
      ]
    },
    {
      "cell_type": "code",
      "execution_count": null,
      "metadata": {
        "colab": {
          "base_uri": "https://localhost:8080/"
        },
        "id": "rAsSchOUIsEk",
        "outputId": "a1153c56-743c-4ad7-a150-49818151b298"
      },
      "outputs": [
        {
          "name": "stdout",
          "output_type": "stream",
          "text": [
            "<class 'str'>\n",
            "<class 'int'>\n",
            "<class 'float'>\n"
          ]
        }
      ],
      "source": [
        "nomeAluno = 'StartUP'\n",
        "idade = 19\n",
        "altura = 1.90\n",
        "\n",
        "print(type(nome))\n",
        "print(type(idade))\n",
        "print(type(altura))"
      ]
    },
    {
      "cell_type": "code",
      "execution_count": null,
      "metadata": {
        "colab": {
          "base_uri": "https://localhost:8080/"
        },
        "id": "24n7X5tKLQDM",
        "outputId": "02f90e30-6869-42e6-db7a-fd838efbb7cc"
      },
      "outputs": [
        {
          "name": "stdout",
          "output_type": "stream",
          "text": [
            "Jefferson\n"
          ]
        }
      ],
      "source": [
        "print(nomeAluno)"
      ]
    },
    {
      "cell_type": "code",
      "execution_count": null,
      "metadata": {
        "colab": {
          "base_uri": "https://localhost:8080/"
        },
        "id": "2tDubdgjKzIE",
        "outputId": "10d43fd6-07e1-40fe-e2c6-2686e3424dcb"
      },
      "outputs": [
        {
          "name": "stdout",
          "output_type": "stream",
          "text": [
            "Digite o seu nome: Neymar\n",
            "Digite sua idade: 33\n",
            "Digite sua altura: 1.65\n"
          ]
        }
      ],
      "source": [
        "nomeAluno = input('Digite o seu nome: ')\n",
        "idade = input('Digite sua idade: ')\n",
        "altura = input('Digite sua altura: ')"
      ]
    },
    {
      "cell_type": "markdown",
      "metadata": {},
      "source": [
        "Ao concatenar valores, tanto o sinal de vírgula `(,)` tanto como o sinal de `+` funcionam como strings (textos).\n",
        "\n",
        "O operador `+` só pode ser usado entre strings e faz uma concatenação sem adicionar espaços automaticamente. Já a vírgula pode-se usar com outros tipos de dados, e adiciona um espaço automaticamente.\n",
        "\n",
        "Porém, ao usar o sinal de `+` entre uma string e uma variável de tipo numeral, irá ocorrer um erro."
      ]
    },
    {
      "cell_type": "code",
      "execution_count": 14,
      "metadata": {},
      "outputs": [
        {
          "name": "stdout",
          "output_type": "stream",
          "text": [
            "Olá, Lucas. Você possui umaFerrari.\n",
            "Olá, Lucas. Você possui 38 anos.\n"
          ]
        }
      ],
      "source": [
        "nomeProfessor = 'Lucas' #string\n",
        "idadeProf = 38 #int\n",
        "carroProf = 'Ferrari'\n",
        "\n",
        "# print('olá,' + nomeProfessor + '. Você possui' + idadeProf 'anos.')\n",
        "print('Olá, ' + nomeProfessor + '. Você possui uma' + carroProf + '.')\n",
        "print('Olá,', nomeProfessor + '. Você possui', idadeProf, 'anos.')"
      ]
    },
    {
      "cell_type": "markdown",
      "metadata": {},
      "source": [
        "## Atividade - Entrada e Saída"
      ]
    },
    {
      "cell_type": "markdown",
      "metadata": {},
      "source": [
        "1 - Peça ao usuário que digite seu time do coração e exiba uma mensagem qualquer.\n",
        "\n",
        "Exemplo:\n",
        "\n",
        "Entrada: MAC\n",
        "\n",
        "Saída: Top! O MAC é o melhor do mundo!\n"
      ]
    },
    {
      "cell_type": "code",
      "execution_count": 35,
      "metadata": {},
      "outputs": [
        {
          "name": "stdout",
          "output_type": "stream",
          "text": [
            "Top! O MAC é o melhor do mundo!\n",
            "Top! O MAC é o melhor do mundo!\n",
            "Top! O MAC é o melhor do mundo!\n"
          ]
        }
      ],
      "source": [
        "seuTime = input('Qual o seu time de coração?')\n",
        "\n",
        "print('Top! O', seuTime, 'é o melhor do mundo!')\n",
        "print('Top! O ' + seuTime + ' é o melhor do mundo!')\n",
        "print(f'Top! O {seuTime} é o melhor do mundo!')"
      ]
    },
    {
      "cell_type": "markdown",
      "metadata": {},
      "source": [
        "2 - Peça ao usuário para digitar sua comida favorita.\n",
        "\n",
        "Exemplo:\n",
        "\n",
        "Entrada: Lasanha\n",
        "\n",
        "Saída: Lasanha é bão mesmo!"
      ]
    },
    {
      "cell_type": "code",
      "execution_count": 34,
      "metadata": {},
      "outputs": [
        {
          "name": "stdout",
          "output_type": "stream",
          "text": [
            "Lasanha é bão mesmo!\n",
            "Lasanha é bão mesmo!\n",
            "Lasanha é bão mesmo!\n"
          ]
        }
      ],
      "source": [
        "suaComida = input('Qual a sua comida favorita?')\n",
        "\n",
        "print(suaComida, 'é bão mesmo!')\n",
        "print(suaComida + ' é bão mesmo!')\n",
        "print(f'{suaComida} é bão mesmo!')"
      ]
    },
    {
      "cell_type": "markdown",
      "metadata": {},
      "source": [
        "3 - Peça para o usuário para digitar uma palavra e um número. Depois, exiba uma senha personalizada.\n",
        "\n",
        "Exemplo:\n",
        "\n",
        "Entrada: Gato e 123\n",
        "\n",
        "Saída: Sua nova senha é Gato123"
      ]
    },
    {
      "cell_type": "code",
      "execution_count": 37,
      "metadata": {},
      "outputs": [
        {
          "name": "stdout",
          "output_type": "stream",
          "text": [
            "Sua nova senha é Macaco22\n",
            "Sua nova senha é Macaco22\n"
          ]
        }
      ],
      "source": [
        "suaPalavra = input('Digite a palavra desejada:')\n",
        "seuNum = input('Digite o número desejado:')\n",
        "\n",
        "print('Sua nova senha é', suaPalavra + seuNum)\n",
        "print(f'Sua nova senha é {suaPalavra}{seuNum}')"
      ]
    },
    {
      "cell_type": "markdown",
      "metadata": {},
      "source": [
        "4 - Peça ao usuário para digitar um nome e uma profissão fictícia para um personagem.\n",
        "\n",
        "Exemplo:\n",
        "\n",
        "Entrada: Robscleyton / Manobrista de Nave\n",
        "\n",
        "Saída: Robscleyton é um grande manobrista de nave."
      ]
    },
    {
      "cell_type": "code",
      "execution_count": null,
      "metadata": {},
      "outputs": [
        {
          "name": "stdout",
          "output_type": "stream",
          "text": [
            "Plinio é um grande urologista.\n"
          ]
        }
      ],
      "source": [
        "seuNome = input('Digite o nome de seu personagem')\n",
        "seuJob = input('Digite o trabalho de seu personagem')\n",
        "\n",
        "print(seuNome.title(), 'é um grande', seuJob.lower() + '.')"
      ]
    },
    {
      "cell_type": "markdown",
      "metadata": {},
      "source": [
        "## 3. Operações"
      ]
    },
    {
      "cell_type": "markdown",
      "metadata": {},
      "source": [
        "**Hierarquia dos Operadore**\n",
        "\n",
        "1. Parêntese ();\n",
        "2. Multiplicação e Divisão (* e /)\n",
        "3. Soma e Subtração (+ e -)"
      ]
    },
    {
      "cell_type": "code",
      "execution_count": null,
      "metadata": {},
      "outputs": [],
      "source": [
        "print(1 + 1) #soma"
      ]
    },
    {
      "cell_type": "code",
      "execution_count": null,
      "metadata": {},
      "outputs": [],
      "source": [
        "print(5 * 5) #multiplicação"
      ]
    },
    {
      "cell_type": "code",
      "execution_count": null,
      "metadata": {},
      "outputs": [],
      "source": [
        "print(2 ** 2) #potenciação"
      ]
    },
    {
      "cell_type": "code",
      "execution_count": null,
      "metadata": {},
      "outputs": [],
      "source": [
        "print(25 // 5) #divisão inteira"
      ]
    },
    {
      "cell_type": "code",
      "execution_count": null,
      "metadata": {},
      "outputs": [],
      "source": [
        "print(25 % 5) #módulo (resto da divisão)"
      ]
    },
    {
      "cell_type": "markdown",
      "metadata": {},
      "source": [
        "## Exercícios - Operadores Aritméticos"
      ]
    },
    {
      "cell_type": "markdown",
      "metadata": {},
      "source": [
        "01 - Faça um algoritmo que leia dois valores inteiros e positivos. Ao fim, exiba a some destes valores ao usuário:"
      ]
    },
    {
      "cell_type": "code",
      "execution_count": null,
      "metadata": {},
      "outputs": [
        {
          "name": "stdout",
          "output_type": "stream",
          "text": [
            "A soma dos dois valores é: 30\n"
          ]
        }
      ],
      "source": [
        "num1 = int(input('Digite um número inteiro'))\n",
        "num2 = int(input('Digite outro número inteiro, iremos somá-lo ao primeiro.'))\n",
        "\n",
        "numSoma = num1 + num2\n",
        "\n",
        "print(f'A soma dos dois valores é: {numSoma}')"
      ]
    },
    {
      "cell_type": "markdown",
      "metadata": {},
      "source": [
        "02 - Faça um algoritmo que leia um número inteiro positivo e calcule o dobro deste número"
      ]
    },
    {
      "cell_type": "code",
      "execution_count": 24,
      "metadata": {},
      "outputs": [
        {
          "name": "stdout",
          "output_type": "stream",
          "text": [
            "O dobro de seu número é: 20\n"
          ]
        }
      ],
      "source": [
        "num = int(input('Digite um número inteiro positivo'))\n",
        "\n",
        "numDouble = num * 2\n",
        "\n",
        "if num < 0:\n",
        "    print('Seu número é negativo. Tente novamente')\n",
        "elif num > 0:\n",
        "    print(f'O dobro de seu número é: {numDouble}')\n",
        "else:\n",
        "    print(f'Para de brisar irmão')"
      ]
    },
    {
      "cell_type": "markdown",
      "metadata": {},
      "source": [
        "03 - Faça um algoritmo que leia três notas de um aluno. Ao fim, exiba a média aritmética das três notas:"
      ]
    },
    {
      "cell_type": "code",
      "execution_count": 28,
      "metadata": {},
      "outputs": [
        {
          "name": "stdout",
          "output_type": "stream",
          "text": [
            "A média da nota dos três alunos é: 7.333333333333333\n"
          ]
        }
      ],
      "source": [
        "note1 = int(input('Digite a nota de um aluno'))\n",
        "note2 = int(input('Digite a nota de outro aluno'))\n",
        "note3 = int(input('Digite a nota de mais um aluno'))\n",
        "\n",
        "medium = ((note1 + note2 + note3) / 3)\n",
        "print(f'A média da nota dos três alunos é: {medium}')"
      ]
    },
    {
      "cell_type": "markdown",
      "metadata": {},
      "source": [
        "4. Cálcule a área de um triângulo.\n",
        "\n",
        "Fórmula: área = base * altura"
      ]
    },
    {
      "cell_type": "code",
      "execution_count": 30,
      "metadata": {},
      "outputs": [
        {
          "name": "stdout",
          "output_type": "stream",
          "text": [
            "A área do triângulo é: 50.0\n"
          ]
        }
      ],
      "source": [
        "h = float(input('Digite a altura do triângulo'))\n",
        "b = float(input('Digite a base do triângulo'))\n",
        "\n",
        "triangle = h * b\n",
        "print(f'A área do triângulo é: {triangle}')"
      ]
    },
    {
      "cell_type": "markdown",
      "metadata": {},
      "source": [
        "5. Com o valor atual do Dólar, um casal precisa se planejar para uma viagem. Faça um algoritmo que permita o casal converter a quantidade de dinheiro em reais que possuem, para Dólar, considerando a cotação atual do dia."
      ]
    },
    {
      "cell_type": "code",
      "execution_count": 32,
      "metadata": {},
      "outputs": [
        {
          "name": "stdout",
          "output_type": "stream",
          "text": [
            "O valor do real em dolar é: 270.51\n"
          ]
        }
      ],
      "source": [
        "real = float(input('Digite a quantidade em reais'))\n",
        "dolar = 5.73\n",
        "valorConvertido = real / dolar\n",
        "\n",
        "print(f'O valor do real em dolar é: {valorConvertido:.2f}')"
      ]
    },
    {
      "cell_type": "markdown",
      "metadata": {},
      "source": [
        "06. Solicite para o usuário a sua idade. COm sua idade, crie um algoritmo que calcule a quantidade de dias que a pessoa já viveu (aproximadamente)"
      ]
    },
    {
      "cell_type": "code",
      "execution_count": 34,
      "metadata": {},
      "outputs": [
        {
          "name": "stdout",
          "output_type": "stream",
          "text": [
            "Você já viveu por 6570 dias!\n"
          ]
        }
      ],
      "source": [
        "idade = int(input('Digite sua idade'))\n",
        "\n",
        "suaVida = idade * 365\n",
        "\n",
        "print(f'Você já viveu por {suaVida} dias!')"
      ]
    },
    {
      "cell_type": "markdown",
      "metadata": {},
      "source": [
        "7. Joáo está muito contente com o desempenho do seu time e resolveu adquirir uma camiseta do melhor time do mundo, COrinthians. Ao chegar na loja, percebeu que há um desconto em pagamentos à vista, que é a mesma forma que ele faria. Solicite ao usuário, o valor do produto, o percentual de desconto, e ao fim, exiba o preço já descontado para pagamento."
      ]
    },
    {
      "cell_type": "code",
      "execution_count": null,
      "metadata": {},
      "outputs": [
        {
          "name": "stdout",
          "output_type": "stream",
          "text": [
            "O valor da camiseta com o desconto é: 35.0\n"
          ]
        }
      ],
      "source": [
        "precoCamisa = float(input(\"Qual o valor da camiseta?\"))\n",
        "desconto = float(input(\"Qual o valor do desconto?\"))\n",
        "\n",
        "precoDescontado = precoCamisa - (precoCamisa * desconto / 100)\n",
        "\n",
        "print(f\"O valor da camiseta com o desconto é: {precoDescontado}\")"
      ]
    },
    {
      "cell_type": "markdown",
      "metadata": {},
      "source": [
        "8. Faça um algoritmo que leia uma temperatura em Celcius, e converta-a em Fahrenheit e em Kelvin."
      ]
    },
    {
      "cell_type": "code",
      "execution_count": 9,
      "metadata": {},
      "outputs": [
        {
          "name": "stdout",
          "output_type": "stream",
          "text": [
            "A sua temperatura em Fahrenheit em Kelvin, respectivamente: 53.6 e 285.0\n"
          ]
        }
      ],
      "source": [
        "temperatura = float(input(\"Digite a temperatura desejado\"))\n",
        "tempToFahrenheit = (temperatura * 1.8) + 32\n",
        "tempToKelvin = temperatura + 273\n",
        "\n",
        "print(f\"A sua temperatura em Fahrenheit em Kelvin, respectivamente: {tempToFahrenheit} e {tempToKelvin}\")"
      ]
    },
    {
      "cell_type": "markdown",
      "metadata": {},
      "source": [
        "9. Faça um algoritmo que leia o peso e a altura de uma pessoa. Com esses dados, calcular o IMC do usuário."
      ]
    },
    {
      "cell_type": "code",
      "execution_count": 11,
      "metadata": {},
      "outputs": [
        {
          "name": "stdout",
          "output_type": "stream",
          "text": [
            "Seu Índice de Gordura Corporal é: 34.54287190082645\n"
          ]
        }
      ],
      "source": [
        "seuPeso = float(input(\"Digite o seu peso.\"))\n",
        "suaAltura = float(input(\"Digite sua altura.\"))\n",
        "\n",
        "imc = seuPeso / (suaAltura ** 2)\n",
        "\n",
        "print(f\"Seu Índice de Gordura Corporal é: {imc}\")"
      ]
    },
    {
      "cell_type": "markdown",
      "metadata": {},
      "source": [
        "10. Faça um algoritmo que solicite dois números ao usuário e calcule o resto da divisão entre eles."
      ]
    },
    {
      "cell_type": "code",
      "execution_count": 16,
      "metadata": {},
      "outputs": [
        {
          "name": "stdout",
          "output_type": "stream",
          "text": [
            "O resto da divisão entre os dois números é: 2\n"
          ]
        }
      ],
      "source": [
        "num1 = int(input(\"Digite um número.\"))\n",
        "num2 = int(input(\"Digite outro número.\"))\n",
        "\n",
        "resto = num1 % num2\n",
        "\n",
        "print(f\"O resto da divisão entre os dois números é: {resto}\")"
      ]
    },
    {
      "cell_type": "markdown",
      "metadata": {},
      "source": [
        "11. Para se preparar para a Calourada, uma aluna do vôlei da turma ADS começou a correr para melhorar o condicionamento físico e deja calcular a sua **velocidade média** durante as sessões de corrida. Solicite ao usuário, a distância percorrida, e o tempo gasto da atividade para o cálculo."
      ]
    },
    {
      "cell_type": "code",
      "execution_count": null,
      "metadata": {},
      "outputs": [
        {
          "name": "stdout",
          "output_type": "stream",
          "text": [
            "Sua velocidade média foi: 0.20\n"
          ]
        }
      ],
      "source": [
        "distance = float(input(\"Qual a distância percorrida em KM?\"))\n",
        "time = float(input(\"Qual foi o tempo gasto em horas?\"))\n",
        "\n",
        "mediumVelocity = distance / time\n",
        "\n",
        "print(f\"Sua velocidade média foi: {mediumVelocity:.2f}\")"
      ]
    },
    {
      "cell_type": "markdown",
      "metadata": {},
      "source": [
        "12. Faça um algortimo que leia um valor em anos. A partir dessa entrada, calcular quantos meses, dias, horas e minutos possui essa entrada."
      ]
    },
    {
      "cell_type": "code",
      "execution_count": 8,
      "metadata": {},
      "outputs": [
        {
          "name": "stdout",
          "output_type": "stream",
          "text": [
            "Dentro dessa quantidade de anos, temos 12 meses, 365 dias, 8766 horas e 525960 minutos!\n"
          ]
        }
      ],
      "source": [
        "years = int(input(\"Digite a quantidade de anos\"))\n",
        "yearMonths = years * 12\n",
        "yearDays = years * 365\n",
        "yearHours = years * 8766\n",
        "yearMinutes = years * 525960\n",
        "\n",
        "print(f\"Dentro dessa quantidade de anos, temos {yearMonths} meses, {yearDays} dias, {yearHours} horas e {yearMinutes} minutos!\")"
      ]
    },
    {
      "cell_type": "code",
      "execution_count": null,
      "metadata": {},
      "outputs": [
        {
          "name": "stdout",
          "output_type": "stream",
          "text": [
            "O cliente terá que pagar R$64.0.\n"
          ]
        }
      ],
      "source": [
        "hamburguer = 18.50\n",
        "xsalada = 22.00\n",
        "fritas = 12.90\n",
        "refri = 5.00\n",
        "milkshake = 8.99\n",
        "\n",
        "def calculus():\n",
        "    hamQuant = float(input(\"Quantos hamburguers o cliente pediu?\"))\n",
        "    hamCalc = hamburguer * hamQuant\n",
        "\n",
        "    xsalQuant = float(input(\"Quantos X-Salada o cliente pediu\"))\n",
        "    xsalCalc = xsalada * xsalQuant\n",
        "\n",
        "    fritasQuant = float(input(\"Quantas fritas o cliente pediu?\"))\n",
        "    fritasCalc = fritas * fritasQuant\n",
        "\n",
        "    refriQuant = float(input(\"Quantas refris o cliente pediu?\"))\n",
        "    refriCalc = refri * refriQuant\n",
        "\n",
        "    milkQuant = float(input(\"Quantas milk-shakes o cliente pediu?\"))\n",
        "    milkCalc = milkshake * milkQuant\n",
        "\n",
        "    allCalc = hamCalc + xsalCalc + fritasCalc + refriCalc + milkCalc\n",
        "\n",
        "    print(f\"O cliente terá que pagar R${allCalc}\")\n",
        "\n",
        "calculus()\n",
        "    "
      ]
    },
    {
      "cell_type": "markdown",
      "metadata": {},
      "source": [
        "14. Os funcionários do Bar do Moe's conseguiram um adicional devido a alta das vendas neste período do ano. Faça um algoritmo que leia o salário base do funcionário, o percentual de acréscimo, e ao fim mostre o salário total recalculado."
      ]
    },
    {
      "cell_type": "code",
      "execution_count": 9,
      "metadata": {},
      "outputs": [
        {
          "name": "stdout",
          "output_type": "stream",
          "text": [
            "O salário adicionado ao percentual é: 1782.5\n"
          ]
        }
      ],
      "source": [
        "salary = float(input(\"Qual o salário do safado do barman?\"))\n",
        "salaryAcr = float(input(\"Qual o percentual de acréscimo?\"))\n",
        "\n",
        "salaryDivision = (salaryAcr / 100) * salary\n",
        "salaryCalc = salaryDivision + salary\n",
        "\n",
        "print(f\"O salário adicionado ao percentual é: {salaryCalc}\")"
      ]
    },
    {
      "attachments": {
        "image.png": {
          "image/png": "[encoded data removed]"
        }
      },
      "cell_type": "markdown",
      "metadata": {},
      "source": [
        "## Relacionais\n",
        "\n",
        "Operadores relacionais, são responsáveis por relacionar dois objetos. Sempre retornarão `True` ou `False`.\n",
        "\n",
        "![image.png](attachment:image.png)"
      ]
    },
    {
      "cell_type": "code",
      "execution_count": null,
      "metadata": {},
      "outputs": [
        {
          "name": "stdout",
          "output_type": "stream",
          "text": [
            "True\n",
            "False\n",
            "False\n"
          ]
        }
      ],
      "source": [
        "print(5 == 5) #igualdade\n",
        "print(5 == 4)\n",
        "\n",
        "n1 = 5\n",
        "n2 = 4\n",
        "\n",
        "print(n1 == n2)"
      ]
    },
    {
      "cell_type": "code",
      "execution_count": null,
      "metadata": {},
      "outputs": [
        {
          "name": "stdout",
          "output_type": "stream",
          "text": [
            "True\n",
            "False\n"
          ]
        }
      ],
      "source": [
        "print(10 > 5) #maior\n",
        "print(5 > 10)"
      ]
    },
    {
      "cell_type": "code",
      "execution_count": 12,
      "metadata": {},
      "outputs": [
        {
          "name": "stdout",
          "output_type": "stream",
          "text": [
            "True\n",
            "False\n"
          ]
        }
      ],
      "source": [
        "print(10 >= 5) #maior OU igual\n",
        "print(5 >= 10)"
      ]
    },
    {
      "cell_type": "code",
      "execution_count": 13,
      "metadata": {},
      "outputs": [
        {
          "name": "stdout",
          "output_type": "stream",
          "text": [
            "True\n",
            "False\n"
          ]
        }
      ],
      "source": [
        "print(5 < 10) #menor\n",
        "print(10 < 5)"
      ]
    },
    {
      "cell_type": "code",
      "execution_count": 14,
      "metadata": {},
      "outputs": [
        {
          "name": "stdout",
          "output_type": "stream",
          "text": [
            "True\n",
            "False\n"
          ]
        }
      ],
      "source": [
        "print(5 <= 10) #menor OU igual\n",
        "print(10 <= 5)"
      ]
    },
    {
      "cell_type": "markdown",
      "metadata": {},
      "source": [
        "## Lógicos\n",
        "\n",
        "Operadores lógicos são utilizados para realizar operações de comparação entre valores ou expressões.\n",
        "O resultado de uma expressão com a utilização dos operadores lógicos retornará uma expressão que poderá ser `False` ou `True`\n",
        "\n",
        "**E lógico** (AND): Retorna verdadeiro se **ambas** as expressões envolvidas forem verdadeiras, caso contrário, retorna falso.\n",
        "\n",
        "**OU lógico** (OR) Retorna verdadeiro se pelo menos **uma** das expressões envolidas for verdadeira.\n",
        "\n",
        "**NÃO lógico** (NOT) Este operador **nega o valor** de uma expressão. Se a expressão é verdadeira (`True`)\n",
        "\n",
        "\n",
        "**Tabela da verdade**\n",
        "\n",
        "![alt text](verdade-1.png)\n"
      ]
    },
    {
      "cell_type": "markdown",
      "metadata": {},
      "source": [
        "13. Faça um algoritmo que calcule a conta final de um dado cliente na Unimar Lanches, que por sua vez, possui a seguinte tabela de preços:\n",
        "\n",
        "* Hamburguer - R$18.50\n",
        "* X-Salada - R$22.00\n",
        "* Fritas - R$12.90\n",
        "* Refri - R$5.00\n",
        "* Milkshake - R$8.99\n",
        "\n",
        "O cliente poderá escolher quantos produtos desejar. Ao fim, mostrar o total ao cliente."
      ]
    },
    {
      "cell_type": "markdown",
      "metadata": {},
      "source": [
        "Operador AND"
      ]
    },
    {
      "cell_type": "code",
      "execution_count": null,
      "metadata": {},
      "outputs": [],
      "source": [
        "n1 = 2\n",
        "n2 = 5\n",
        "n3 = 7\n",
        "n4 = 10\n",
        "\n",
        "print(n4 > n1 and n2 > n4) # V e F = F\n",
        "print(n1 > n3 and n3 > n2) # F e V = F\n",
        "print(n1 < n2 and n3 < n4) # V e V = V \n",
        "print(n4 > n1 and n3 > n4) # F e F = F"
      ]
    },
    {
      "cell_type": "markdown",
      "metadata": {},
      "source": [
        "Operador OR"
      ]
    },
    {
      "cell_type": "code",
      "execution_count": null,
      "metadata": {},
      "outputs": [],
      "source": [
        "n1 = 2\n",
        "n2 = 5\n",
        "n3 = 7\n",
        "n4 = 10\n",
        "\n",
        "print(n4 > n1 or n2 > n4) # V ou F = F\n",
        "print(n1 > n3 or n3 > n2) # F ou V = V\n",
        "print(n1 < n2 or n3 < n4) # V ou V = V \n",
        "print(n4 > n1 or n3 > n4) # F ou F = F"
      ]
    },
    {
      "cell_type": "markdown",
      "metadata": {},
      "source": [
        "Operador NOT"
      ]
    },
    {
      "cell_type": "code",
      "execution_count": 17,
      "metadata": {},
      "outputs": [
        {
          "name": "stdout",
          "output_type": "stream",
          "text": [
            "False\n"
          ]
        }
      ],
      "source": [
        "palmeiras_tem_mundial = True\n",
        "print(not palmeiras_tem_mundial) #False"
      ]
    },
    {
      "cell_type": "code",
      "execution_count": null,
      "metadata": {},
      "outputs": [
        {
          "name": "stdout",
          "output_type": "stream",
          "text": [
            "True\n"
          ]
        }
      ],
      "source": [
        "curintia_tem_2_mundial = False\n",
        "print(not curintia_tem_2_mundial) #True"
      ]
    },
    {
      "cell_type": "code",
      "execution_count": 19,
      "metadata": {},
      "outputs": [
        {
          "name": "stdout",
          "output_type": "stream",
          "text": [
            "False\n"
          ]
        }
      ],
      "source": [
        "nicollas_netto = True\n",
        "print(not nicollas_netto) #False"
      ]
    },
    {
      "cell_type": "markdown",
      "metadata": {},
      "source": [
        "4. Estruturas de Controle\n",
        "\n",
        "Estrutura de seleção é utilizada quando um algoritmo necessita escolher uma instruççao ou um conjunto de instruções quando uma **condição** (representada por uma expressão relacional ou lógica) é satisfeita ou não.-"
      ]
    },
    {
      "cell_type": "markdown",
      "metadata": {},
      "source": [
        "## Estrutura de seleção simples (IF)\n",
        "\n",
        "![alt text](selecao_simples.png)"
      ]
    },
    {
      "cell_type": "markdown",
      "metadata": {},
      "source": [
        "Exemplo:\n",
        "\n",
        "se (condição):\n",
        "    <instrução_1>\n",
        "    <instrução_2>\n",
        "    ...\n",
        "    <instrução_n>\n"
      ]
    },
    {
      "cell_type": "markdown",
      "metadata": {},
      "source": [
        "Quando o computador encontra o bloco de instruções acima, inicialmente a condição é testada. Caso o resultado do teste seja um valor **verdadeiro**, o conjunto de instruções dentro do bloco `se` será executado. Caso a condição resulte em um valor **falso** todo o bloco de instruções é **ignorado** e o fluxo de execução do algoritmo segue logo abaixo do bloco `se`."
      ]
    },
    {
      "cell_type": "markdown",
      "metadata": {},
      "source": [
        "## Sintaxe\n",
        "\n",
        "![alt text](sintaxe_se_simples-1.png)"
      ]
    },
    {
      "cell_type": "markdown",
      "metadata": {},
      "source": [
        "Observa-se que, em Python, após a condição, **deverá** ter dois pontos (:), que indica o início de um novo bloco. Caso a condição seja verdadeira, será executado o bloco abaixo dos dois pontos. Esse bloco deverá estar **IDENTADO** com um TAB a frente do `SE`.\n",
        "\n",
        "**IF = SE**\n",
        "\n",
        "Exemplos:"
      ]
    },
    {
      "cell_type": "code",
      "execution_count": null,
      "metadata": {},
      "outputs": [
        {
          "name": "stdout",
          "output_type": "stream",
          "text": [
            "O número 2 é par!\n"
          ]
        }
      ],
      "source": [
        "# Algoritmo valida se o número digitado é par\n",
        "\n",
        "# Entrada\n",
        "num = int(input('Digite um valor inteiro: '))\n",
        "\n",
        "# Processamento\n",
        "resto_divisao = num % 2 # Módulo\n",
        "\n",
        "if(resto_divisao == 0):\n",
        "    print(f'O número {num} é par!') # Saída\n",
        "\n",
        "# Explicando pra você que é burro: o motivo dele entender que 2, 4 ou 10 é par, é porque no resto da divisão (o que fica embaixo do número que será\n",
        "# dividido.) se resulta 0, pois o número colocado existe na tabuada do 2."
      ]
    },
    {
      "cell_type": "code",
      "execution_count": null,
      "metadata": {},
      "outputs": [],
      "source": [
        "# Algoritmo valida se o número digitado é positivo\n",
        "\n",
        "# Entrada\n",
        "num = int(input('Digite um valor inteiro: '))\n",
        "\n",
        "# Processamento\n",
        "\n",
        "if num >= 0:\n",
        "    print(f'O número {num} é positivo!')"
      ]
    },
    {
      "cell_type": "markdown",
      "metadata": {},
      "source": [
        "## Estrutura de Seleção Composta\n",
        "\n",
        "![alt text](selecao_composta.png)"
      ]
    },
    {
      "cell_type": "markdown",
      "metadata": {},
      "source": [
        "Sintaxe:\n",
        "\n",
        "![alt text](sintaxe_se_composta.png)"
      ]
    },
    {
      "cell_type": "markdown",
      "metadata": {},
      "source": [
        "Da mesma forma que a estrutura de seleção simples, a condição é testada. Caso o valor resulte em **VERDADEIRA**, o conjunto de instruções logo abaixo do comando `SE` será executado e o conjunto de instruções pertencentes ao bloco `SENAO` serão ignorados.\n",
        "\n",
        "Por outro lado, caso o teste resulte em um valor **FALSO** o conjunto de instruções pertencentes ao bloco `SENAO` serão executados.\n",
        "\n",
        "Após a execução de um dos conjuntos de instruções o fluxo do progama continua sua execução logo abaixo da estrutura de seleção."
      ]
    },
    {
      "cell_type": "markdown",
      "metadata": {},
      "source": [
        "## Observações\n",
        "\n",
        "1. Pode-se ter uma instrução `SE` (if) sem o bloco `SENAO` (else), mas o contrário não é possível. Toda instrução `SENAO` deve estar associada a uma instrução `SE`. Cada instrução `SE` pode ter no máximo **UMA** instrução `SENAO`.\n",
        "2. Ao escrevera a instrução `SENAO` (else) **não se deve colocar nenhuma condição lógica**, pois sua execução sempre ocorrerá quando a condição da instrução `SE` for falsa."
      ]
    },
    {
      "cell_type": "code",
      "execution_count": 4,
      "metadata": {},
      "outputs": [
        {
          "name": "stdout",
          "output_type": "stream",
          "text": [
            "O número 2 é par!\n"
          ]
        }
      ],
      "source": [
        "# Algoritmo valida número par ou ímpar\n",
        "\n",
        "# Entrada\n",
        "num = int(input('Digite um valor inteiro: '))\n",
        "\n",
        "# Processamento\n",
        "resto_div = num % 2\n",
        "\n",
        "if resto_div == 0:\n",
        "    print(f'O número {num} é par!')\n",
        "else:\n",
        "    print(f'O número {num} é ímpar!')"
      ]
    },
    {
      "cell_type": "code",
      "execution_count": 6,
      "metadata": {},
      "outputs": [
        {
          "name": "stdout",
          "output_type": "stream",
          "text": [
            "O número 2 é positivo!\n"
          ]
        }
      ],
      "source": [
        "# Algoritmo para verificar se o número lido é positivo ou negativo\n",
        "\n",
        "# Entrada\n",
        "num = int(input('Digite um valor inteiro: '))\n",
        "\n",
        "if num >= 0:\n",
        "    print(f'O número {num} é positivo!')\n",
        "else:\n",
        "    print(f'O número {num} é negativo!')"
      ]
    },
    {
      "cell_type": "markdown",
      "metadata": {},
      "source": [
        "## Exercícios - Estrutura de Seleção:"
      ]
    },
    {
      "cell_type": "markdown",
      "metadata": {},
      "source": [
        "1. Faça um algoritmo que leia duas notas, calcule a média e verifique se o aluno foi aprovado ou reprovado. Para estar aprovado, a média deverá ser maior ou igual a 7."
      ]
    },
    {
      "cell_type": "code",
      "execution_count": 21,
      "metadata": {},
      "outputs": [
        {
          "name": "stdout",
          "output_type": "stream",
          "text": [
            "O aluno foi aprovado!\n"
          ]
        }
      ],
      "source": [
        "note1 = float(input('Digite a nota do primeiro aluno: '))\n",
        "note2 = float(input('Digite a nota do segundo aluno: '))\n",
        "\n",
        "noteMedium = (note1 + note2) / 2.0\n",
        "\n",
        "if (noteMedium >= 7.0):\n",
        "    print('O aluno foi aprovado!')\n",
        "else:\n",
        "    print('O aluno foi reprovado :(')"
      ]
    },
    {
      "cell_type": "markdown",
      "metadata": {},
      "source": [
        "2. Faça um algoritmo que leia dois valores inteiros e determine qual deles é maior."
      ]
    },
    {
      "cell_type": "code",
      "execution_count": 24,
      "metadata": {},
      "outputs": [
        {
          "name": "stdout",
          "output_type": "stream",
          "text": [
            "O segundo número (20) é maior.\n"
          ]
        }
      ],
      "source": [
        "num1 = int(input('Digite o primeiro valor: '))\n",
        "num2 = int(input('Digite o segundo valor: '))\n",
        "\n",
        "if (num1 > num2):\n",
        "    biggerNum = num1\n",
        "    print(f'O primeiro número ({biggerNum}) é o número maior.')\n",
        "elif (num2 > num1):\n",
        "    biggerNum = num2\n",
        "    print(f'O segundo número ({biggerNum}) é maior.')\n",
        "else:\n",
        "    print(f'O número 1 {num1} e o número 2 {num2} são iguais!')"
      ]
    },
    {
      "cell_type": "markdown",
      "metadata": {},
      "source": [
        "## IF/ELIF (SE/SENAO SE) - Encandeado\n",
        "\n",
        "Cada `if` será avaliado individualmente, o que significa que todas as condições podem ser veradeiras e executadas.\n",
        "\n",
        "Abaixo a estrutura não encadeada:"
      ]
    },
    {
      "cell_type": "code",
      "execution_count": 25,
      "metadata": {},
      "outputs": [
        {
          "name": "stdout",
          "output_type": "stream",
          "text": [
            "Multa leve aplicada!\n",
            "Multa grave aplicada!\n",
            "Multa gravíssima aplicada!\n",
            "Programa encerrado.\n"
          ]
        }
      ],
      "source": [
        "velocidade = 150\n",
        "\n",
        "if velocidade > 80:\n",
        "    print('Multa leve aplicada!')\n",
        "\n",
        "if velocidade > 100:\n",
        "    print('Multa grave aplicada!')\n",
        "\n",
        "if velocidade > 120:\n",
        "    print('Multa gravíssima aplicada!')\n",
        "\n",
        "print('Programa encerrado.')"
      ]
    },
    {
      "cell_type": "markdown",
      "metadata": {},
      "source": [
        "O mesmo código, encandeado e funcional:"
      ]
    },
    {
      "cell_type": "code",
      "execution_count": 28,
      "metadata": {},
      "outputs": [
        {
          "name": "stdout",
          "output_type": "stream",
          "text": [
            "Nenhuma multa aplicada!\n"
          ]
        }
      ],
      "source": [
        "velocidade = 70\n",
        "\n",
        "if velocidade > 120:\n",
        "    print('Multa gravíssima aplicada!')\n",
        "elif velocidade > 100:\n",
        "    print('Multa grave aplicada!')\n",
        "elif velocidade > 80:\n",
        "    print('Multa leve aplicada!')\n",
        "else:\n",
        "    print('Nenhuma multa aplicada!')"
      ]
    },
    {
      "cell_type": "markdown",
      "metadata": {},
      "source": [
        "3. Faça um algoritmo que leia a velocidade máxima permitida em uma roodvia e também a velocidade de um determinado veículo. Verifique se o carro infringiu o limite de velocidade permitido e se pagará multa ou não."
      ]
    },
    {
      "cell_type": "code",
      "execution_count": 48,
      "metadata": {},
      "outputs": [
        {
          "name": "stdout",
          "output_type": "stream",
          "text": [
            "Multa aplicada.\n"
          ]
        }
      ],
      "source": [
        "maxVelocity = int(input('Qual a velocidade máxima da estrada?'))\n",
        "carVelocity = int(input('Qual foi a velocidade que o carro passou pelo radar? (máximo 100km/h)'))\n",
        "\n",
        "if carVelocity > maxVelocity:\n",
        "    print('Multa aplicada.')\n",
        "else:\n",
        "    print('Nenhuma multa será aplicada!')"
      ]
    },
    {
      "cell_type": "markdown",
      "metadata": {},
      "source": [
        "4. Idem ao 2 porém com 3 valores."
      ]
    },
    {
      "cell_type": "code",
      "execution_count": 46,
      "metadata": {},
      "outputs": [
        {
          "name": "stdout",
          "output_type": "stream",
          "text": [
            "O primeiro número (50) é o número maior.\n"
          ]
        }
      ],
      "source": [
        "num1 = int(input('Digite o primeiro valor: '))\n",
        "num2 = int(input('Digite o segundo valor: '))\n",
        "num3 = int(input('Digite o terceiro valor: '))\n",
        "\n",
        "if (num1 > num2 and num1 > num3):\n",
        "    biggerNum = num1\n",
        "    print(f'O primeiro número ({biggerNum}) é o número maior.')\n",
        "elif (num2 > num1 and num2 > num3):\n",
        "    biggerNum = num2\n",
        "    print(f'O segundo número ({biggerNum}) é maior.')\n",
        "elif (num3 > num1 and num3 > num2):\n",
        "    biggerNum = num3\n",
        "    print(f'O terceiro número ({biggerNum}) é maior.')\n",
        "else:\n",
        "    print(f'O número 1 {num1}, número 2 {num2} e número 3 {num3} são iguais!')"
      ]
    },
    {
      "cell_type": "markdown",
      "metadata": {},
      "source": [
        "5. Faça um algoritmo que leia a altura e o sexo de uma pessoa. Calcule e mostre o seu peso ideal utilizando as seguintes fórmulas:\n",
        "* Homens: (72.7 * altura) - 58\n",
        "* Mulheres: (62.1 * altura) - 44.7"
      ]
    },
    {
      "cell_type": "code",
      "execution_count": null,
      "metadata": {},
      "outputs": [
        {
          "name": "stdout",
          "output_type": "stream",
          "text": [
            "O peso ideal baseado em seu sexo é 9202.57\n"
          ]
        }
      ],
      "source": [
        "sex = input('Digite o seu sexo: (0.00)')\n",
        "sexHeigth = float(input('Baseado no seu sexo, qual é sua altura?: '))\n",
        "\n",
        "if sex.lower() == 'masculino':\n",
        "    sexResult = (72.7 * sexHeigth) - 58\n",
        "    print(f'O peso ideal baseado em seu sexo é {sexResult:.2f}')\n",
        "elif sex.lower() == 'feminino':\n",
        "    sexResult = (62.1 * sexHeigth) - 44.7\n",
        "    print(f'O peso ideal baseado em seu sexo é {sexResult:.2f}')\n",
        "else:\n",
        "    print('Houve um erro de digitação.')"
      ]
    },
    {
      "cell_type": "markdown",
      "metadata": {},
      "source": [
        "6. Crie um programa que peça ao usuário uma senha e só permita o acesso se a senha for 'sp_campeao'."
      ]
    },
    {
      "cell_type": "code",
      "execution_count": 2,
      "metadata": {},
      "outputs": [
        {
          "name": "stdout",
          "output_type": "stream",
          "text": [
            "Acesso negado.\n"
          ]
        }
      ],
      "source": [
        "password = input('Digite sua senha: ')\n",
        "\n",
        "if password == 'sp_campeao':\n",
        "    print('Acesso concedido!')\n",
        "else:\n",
        "    print('Acesso negado.')"
      ]
    },
    {
      "cell_type": "markdown",
      "metadata": {},
      "source": [
        "7. Peça ao usuário um número e verifique se ele está no intervalo entre 10 e 50 (inclusive)."
      ]
    },
    {
      "cell_type": "code",
      "execution_count": 8,
      "metadata": {},
      "outputs": [
        {
          "name": "stdout",
          "output_type": "stream",
          "text": [
            "O número NÃO está no intervalo entre 10 e 50.\n"
          ]
        }
      ],
      "source": [
        "num = float(input('Digite um número:  '))\n",
        "\n",
        "if num >= 10 and num <= 50:\n",
        "    print('O número está no intervalo entre 10 e 50.')\n",
        "else:\n",
        "    print('O número NÃO está no intervalo entre 10 e 50.')"
      ]
    },
    {
      "cell_type": "markdown",
      "metadata": {},
      "source": [
        "8. Peça o salário do usuário e o valor do empréstimo. Aprove o empréstimo apenas se o valor não ultrapassar 30% do salário."
      ]
    },
    {
      "cell_type": "code",
      "execution_count": null,
      "metadata": {},
      "outputs": [
        {
          "name": "stdout",
          "output_type": "stream",
          "text": [
            "Empréstimo aprovado!\n"
          ]
        }
      ],
      "source": [
        "salary = float(input('Digite o valor do seu salário: '))\n",
        "lending = float(input('Digite o valor do empréstimo: '))\n",
        "salaryPerCent = salary * 0.3\n",
        "\n",
        "if lending > salaryPerCent:\n",
        "    print('O empréstimo foi negado.')\n",
        "else:\n",
        "    print('Empréstimo aprovado!')"
      ]
    },
    {
      "cell_type": "markdown",
      "metadata": {},
      "source": [
        "9. Peça um número ao usuário e informe se ele é múltiplo de 3 e de 5 ao mesmo tempo."
      ]
    },
    {
      "cell_type": "code",
      "execution_count": 28,
      "metadata": {},
      "outputs": [
        {
          "name": "stdout",
          "output_type": "stream",
          "text": [
            "Seu número é múltiplo de 3 e de 5!\n"
          ]
        }
      ],
      "source": [
        "num = int(input('Digite um número:  '))\n",
        "\n",
        "if num % 3 == 0 and num % 5 == 0:\n",
        "    print('Seu número é múltiplo de 3 e de 5!')\n",
        "else:\n",
        "    print('Seu número é múltiplo de apenas um deles, ou de nínguem')"
      ]
    },
    {
      "cell_type": "markdown",
      "metadata": {},
      "source": [
        "10. Uma competição de natação é organizada de acordo com a idade de cada nadador. Elabore um algoritmo que leia a idade de um nadador e determine qual a categoria que ele deve competir. Considere:\n",
        "\n",
        "* idade <= 8 - Categoria Infantil A\n",
        "* idade < 13 - Categoria Infantil B\n",
        "* idade < 18 - Categoria Juvenil A\n",
        "* idade < 21 - Categoria Juvenil B\n",
        "* idade >= 21 - Categoria Sênior"
      ]
    },
    {
      "cell_type": "code",
      "execution_count": 11,
      "metadata": {},
      "outputs": [
        {
          "name": "stdout",
          "output_type": "stream",
          "text": [
            "Você está enquadrado na categoria Sênior\n"
          ]
        }
      ],
      "source": [
        "age = int(input('Digite sua idade: '))\n",
        "\n",
        "if age < 1:\n",
        "    print('Idade inválida.')\n",
        "elif age <= 8:\n",
        "    print('Você está enquadrado na categoria Infantil A')\n",
        "elif age < 13:\n",
        "    print('Você está enquadrado na categoria Infantil B')\n",
        "elif age < 18:\n",
        "    print('Você está enquadrado na categoria Juvenil A')\n",
        "elif age < 21:\n",
        "    print('Você está enquadrado na categoria Juvenil B')\n",
        "elif age >= 21:\n",
        "    print('Você está enquadrado na categoria Sênior')\n",
        "else:\n",
        "    print('Idade inválida.')"
      ]
    },
    {
      "cell_type": "markdown",
      "metadata": {},
      "source": [
        "11. O IMC - Índice de Massa Corporal é calculado pela seguinte fórmula:\n",
        "\n",
        "IMC = peso / altura²\n",
        "\n",
        "Ela um algoritmo que calcule o IMC e em seguida defina a confição da pessoa:\n",
        "\n",
        "IMC\n",
        "< 18 Abaixo do peso\n",
        "\n",
        ".>= 18 e < 25 Peso Normal\n",
        "\n",
        ".>= 25 e < 30 Acima do peso\n",
        "\n",
        ".>= 30 Obesidade"
      ]
    },
    {
      "cell_type": "code",
      "execution_count": 9,
      "metadata": {},
      "outputs": [
        {
          "name": "stdout",
          "output_type": "stream",
          "text": [
            "Você possui obesidade. Tome cuidado com sua saúde! (Seu IMC = 33.9)\n"
          ]
        }
      ],
      "source": [
        "yourWeight = float(input('Digite o seu peso atual: '))\n",
        "yourHeight = float(input('Digite sua altura:  '))\n",
        "imc = yourWeight / (yourHeight ** 2)\n",
        "\n",
        "if imc < 18:\n",
        "    print(f'Você está abaixo do peso. (Seu IMC = {imc:.1f})')\n",
        "elif imc >= 18 and imc < 25:\n",
        "    print(f'Você está com o peso normal. (Seu IMC = {imc:.1f})')\n",
        "elif imc >= 25 and imc < 30:\n",
        "    print(f'Você está com sobrepeso. (Seu IMC = {imc:.1f})')\n",
        "elif imc > 30:\n",
        "    print(f'Você possui obesidade. Tome cuidado com sua saúde! (Seu IMC = {imc:.1f})')\n",
        "else:\n",
        "    print(f'Procure um médico. (Seu IMC = {imc:.1f})')"
      ]
    },
    {
      "cell_type": "markdown",
      "metadata": {},
      "source": [
        "12. Elabore um algoritmo que determine se um ano é ou não bissexto.\n",
        "\n",
        "Obs: Um ano é bissexto se ele for divisível por 400 ou se ele for divisível por 4 e não por 100."
      ]
    },
    {
      "cell_type": "code",
      "execution_count": 15,
      "metadata": {},
      "outputs": [
        {
          "name": "stdout",
          "output_type": "stream",
          "text": [
            "Seu ano é bissexto!\n"
          ]
        }
      ],
      "source": [
        "year = int(input('Digite um ano para verificar se ele é bissexto: '))\n",
        "\n",
        "if year % 400 == 0 or year % 4 == 0 and year % 100 != 0:\n",
        "    print('Seu ano é bissexto!')\n",
        "else:\n",
        "    print('O ano não é bissexto.')"
      ]
    },
    {
      "cell_type": "markdown",
      "metadata": {},
      "source": [
        "13. Calculadora simples. Faça um algoritmo que leia dois números inteiros digitados pelo usuário. Com estes dois números, mostras as opções de operações aritméticas (básicas) possíveis entre os números, e permitir a escolha do usuário. Com a escolha feita, realizar a operação aritmética entre os números."
      ]
    },
    {
      "cell_type": "code",
      "execution_count": 24,
      "metadata": {},
      "outputs": [
        {
          "name": "stdout",
          "output_type": "stream",
          "text": [
            "A multiplicação dos dois números é: 10\n"
          ]
        }
      ],
      "source": [
        "num1 = int(input('Digite o primeiro número: '))\n",
        "num2 = int(input('Digite o segundo número: '))\n",
        "operation = input('Qual operação deseja realizar?: ')\n",
        "\n",
        "if operation.lower() == 'somar':\n",
        "    print(f'A soma dos dois números é: {num1 + num2}')\n",
        "elif operation.lower() == 'subtrair':\n",
        "    print(f'A subtração dos dois números é: {num1 - num2}')\n",
        "elif operation.lower() == 'multiplicar':\n",
        "    print(f'A multiplicação dos dois números é: {num1 * num2}')\n",
        "elif operation.lower() == 'dividir':\n",
        "    print(f'A divisão dos dois números é: {num1 / num2}')\n",
        "else:\n",
        "    print('Operação inválida.')"
      ]
    }
  ],
  "metadata": {
    "colab": {
      "provenance": []
    },
    "kernelspec": {
      "display_name": "Python 3",
      "name": "python3"
    },
    "language_info": {
      "codemirror_mode": {
        "name": "ipython",
        "version": 3
      },
      "file_extension": ".py",
      "mimetype": "text/x-python",
      "name": "python",
      "nbconvert_exporter": "python",
      "pygments_lexer": "ipython3",
      "version": "3.11.9"
    }
  },
  "nbformat": 4,
  "nbformat_minor": 0
}
